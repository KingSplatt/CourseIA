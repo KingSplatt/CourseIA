{
 "cells": [
  {
   "cell_type": "markdown",
   "id": "2dae1a2c",
   "metadata": {},
   "source": [
    "## Obtencion del dataset"
   ]
  },
  {
   "cell_type": "markdown",
   "id": "cbed54c6",
   "metadata": {},
   "source": [
    "### Paso 1: Instalar Dependencias para el proyecto"
   ]
  },
  {
   "cell_type": "code",
   "execution_count": 4,
   "id": "6c6062a7",
   "metadata": {},
   "outputs": [
    {
     "name": "stdout",
     "output_type": "stream",
     "text": [
      "Requirement already satisfied: roboflow in /Users/edithriostorres/anaconda3/lib/python3.10/site-packages (1.1.49)\n",
      "Requirement already satisfied: tensorflow in /Users/edithriostorres/anaconda3/lib/python3.10/site-packages (2.18.0)\n",
      "Requirement already satisfied: certifi in /Users/edithriostorres/anaconda3/lib/python3.10/site-packages (from roboflow) (2023.5.7)\n",
      "Requirement already satisfied: cycler in /Users/edithriostorres/anaconda3/lib/python3.10/site-packages (from roboflow) (0.11.0)\n",
      "Requirement already satisfied: Pillow>=7.1.2 in /Users/edithriostorres/anaconda3/lib/python3.10/site-packages (from roboflow) (9.4.0)\n",
      "Requirement already satisfied: matplotlib in /Users/edithriostorres/anaconda3/lib/python3.10/site-packages (from roboflow) (3.7.1)\n",
      "Requirement already satisfied: urllib3>=1.26.6 in /Users/edithriostorres/anaconda3/lib/python3.10/site-packages (from roboflow) (1.26.15)\n",
      "Requirement already satisfied: PyYAML>=5.3.1 in /Users/edithriostorres/anaconda3/lib/python3.10/site-packages (from roboflow) (6.0)\n",
      "Requirement already satisfied: filetype in /Users/edithriostorres/anaconda3/lib/python3.10/site-packages (from roboflow) (1.2.0)\n",
      "Requirement already satisfied: python-dotenv in /Users/edithriostorres/anaconda3/lib/python3.10/site-packages (from roboflow) (1.0.1)\n",
      "Requirement already satisfied: python-dateutil in /Users/edithriostorres/anaconda3/lib/python3.10/site-packages (from roboflow) (2.8.2)\n",
      "Requirement already satisfied: tqdm>=4.41.0 in /Users/edithriostorres/anaconda3/lib/python3.10/site-packages (from roboflow) (4.65.0)\n",
      "Requirement already satisfied: idna==3.7 in /Users/edithriostorres/anaconda3/lib/python3.10/site-packages (from roboflow) (3.7)\n",
      "Requirement already satisfied: numpy>=1.18.5 in /Users/edithriostorres/anaconda3/lib/python3.10/site-packages (from roboflow) (1.26.4)\n",
      "Requirement already satisfied: six in /Users/edithriostorres/anaconda3/lib/python3.10/site-packages (from roboflow) (1.16.0)\n",
      "Requirement already satisfied: requests in /Users/edithriostorres/anaconda3/lib/python3.10/site-packages (from roboflow) (2.28.1)\n",
      "Requirement already satisfied: requests-toolbelt in /Users/edithriostorres/anaconda3/lib/python3.10/site-packages (from roboflow) (0.9.1)\n",
      "Requirement already satisfied: opencv-python-headless==4.10.0.84 in /Users/edithriostorres/anaconda3/lib/python3.10/site-packages (from roboflow) (4.10.0.84)\n",
      "Requirement already satisfied: kiwisolver>=1.3.1 in /Users/edithriostorres/anaconda3/lib/python3.10/site-packages (from roboflow) (1.4.4)\n",
      "Requirement already satisfied: tensorboard<2.19,>=2.18 in /Users/edithriostorres/anaconda3/lib/python3.10/site-packages (from tensorflow) (2.18.0)\n",
      "Requirement already satisfied: libclang>=13.0.0 in /Users/edithriostorres/anaconda3/lib/python3.10/site-packages (from tensorflow) (18.1.1)\n",
      "Requirement already satisfied: google-pasta>=0.1.1 in /Users/edithriostorres/anaconda3/lib/python3.10/site-packages (from tensorflow) (0.2.0)\n",
      "Requirement already satisfied: absl-py>=1.0.0 in /Users/edithriostorres/anaconda3/lib/python3.10/site-packages (from tensorflow) (2.1.0)\n",
      "Requirement already satisfied: grpcio<2.0,>=1.24.3 in /Users/edithriostorres/anaconda3/lib/python3.10/site-packages (from tensorflow) (1.68.1)\n",
      "Requirement already satisfied: packaging in /Users/edithriostorres/anaconda3/lib/python3.10/site-packages (from tensorflow) (23.0)\n",
      "Requirement already satisfied: opt-einsum>=2.3.2 in /Users/edithriostorres/anaconda3/lib/python3.10/site-packages (from tensorflow) (3.4.0)\n",
      "Requirement already satisfied: keras>=3.5.0 in /Users/edithriostorres/anaconda3/lib/python3.10/site-packages (from tensorflow) (3.7.0)\n",
      "Requirement already satisfied: flatbuffers>=24.3.25 in /Users/edithriostorres/anaconda3/lib/python3.10/site-packages (from tensorflow) (24.3.25)\n",
      "Requirement already satisfied: gast!=0.5.0,!=0.5.1,!=0.5.2,>=0.2.1 in /Users/edithriostorres/anaconda3/lib/python3.10/site-packages (from tensorflow) (0.6.0)\n",
      "Requirement already satisfied: tensorflow-io-gcs-filesystem>=0.23.1 in /Users/edithriostorres/anaconda3/lib/python3.10/site-packages (from tensorflow) (0.37.1)\n",
      "Requirement already satisfied: ml-dtypes<0.5.0,>=0.4.0 in /Users/edithriostorres/anaconda3/lib/python3.10/site-packages (from tensorflow) (0.4.1)\n",
      "Requirement already satisfied: h5py>=3.11.0 in /Users/edithriostorres/anaconda3/lib/python3.10/site-packages (from tensorflow) (3.12.1)\n",
      "Requirement already satisfied: setuptools in /Users/edithriostorres/anaconda3/lib/python3.10/site-packages (from tensorflow) (65.6.3)\n",
      "Requirement already satisfied: astunparse>=1.6.0 in /Users/edithriostorres/anaconda3/lib/python3.10/site-packages (from tensorflow) (1.6.3)\n",
      "Requirement already satisfied: wrapt>=1.11.0 in /Users/edithriostorres/anaconda3/lib/python3.10/site-packages (from tensorflow) (1.17.0)\n",
      "Requirement already satisfied: termcolor>=1.1.0 in /Users/edithriostorres/anaconda3/lib/python3.10/site-packages (from tensorflow) (2.5.0)\n",
      "Requirement already satisfied: typing-extensions>=3.6.6 in /Users/edithriostorres/anaconda3/lib/python3.10/site-packages (from tensorflow) (4.12.2)\n",
      "Requirement already satisfied: protobuf!=4.21.0,!=4.21.1,!=4.21.2,!=4.21.3,!=4.21.4,!=4.21.5,<6.0.0dev,>=3.20.3 in /Users/edithriostorres/anaconda3/lib/python3.10/site-packages (from tensorflow) (5.29.1)\n",
      "Requirement already satisfied: wheel<1.0,>=0.23.0 in /Users/edithriostorres/anaconda3/lib/python3.10/site-packages (from astunparse>=1.6.0->tensorflow) (0.38.4)\n",
      "Requirement already satisfied: namex in /Users/edithriostorres/anaconda3/lib/python3.10/site-packages (from keras>=3.5.0->tensorflow) (0.0.8)\n",
      "Requirement already satisfied: rich in /Users/edithriostorres/anaconda3/lib/python3.10/site-packages (from keras>=3.5.0->tensorflow) (13.9.4)\n",
      "Requirement already satisfied: optree in /Users/edithriostorres/anaconda3/lib/python3.10/site-packages (from keras>=3.5.0->tensorflow) (0.13.1)\n",
      "Requirement already satisfied: charset-normalizer<3,>=2 in /Users/edithriostorres/anaconda3/lib/python3.10/site-packages (from requests->roboflow) (2.0.4)\n",
      "Requirement already satisfied: markdown>=2.6.8 in /Users/edithriostorres/anaconda3/lib/python3.10/site-packages (from tensorboard<2.19,>=2.18->tensorflow) (3.7)\n",
      "Requirement already satisfied: tensorboard-data-server<0.8.0,>=0.7.0 in /Users/edithriostorres/anaconda3/lib/python3.10/site-packages (from tensorboard<2.19,>=2.18->tensorflow) (0.7.2)\n",
      "Requirement already satisfied: werkzeug>=1.0.1 in /Users/edithriostorres/anaconda3/lib/python3.10/site-packages (from tensorboard<2.19,>=2.18->tensorflow) (3.1.3)\n",
      "Requirement already satisfied: pyparsing>=2.3.1 in /Users/edithriostorres/anaconda3/lib/python3.10/site-packages (from matplotlib->roboflow) (3.0.9)\n",
      "Requirement already satisfied: fonttools>=4.22.0 in /Users/edithriostorres/anaconda3/lib/python3.10/site-packages (from matplotlib->roboflow) (4.25.0)\n",
      "Requirement already satisfied: contourpy>=1.0.1 in /Users/edithriostorres/anaconda3/lib/python3.10/site-packages (from matplotlib->roboflow) (1.0.5)\n",
      "Requirement already satisfied: MarkupSafe>=2.1.1 in /Users/edithriostorres/anaconda3/lib/python3.10/site-packages (from werkzeug>=1.0.1->tensorboard<2.19,>=2.18->tensorflow) (2.1.1)\n",
      "Requirement already satisfied: pygments<3.0.0,>=2.13.0 in /Users/edithriostorres/anaconda3/lib/python3.10/site-packages (from rich->keras>=3.5.0->tensorflow) (2.18.0)\n",
      "Requirement already satisfied: markdown-it-py>=2.2.0 in /Users/edithriostorres/anaconda3/lib/python3.10/site-packages (from rich->keras>=3.5.0->tensorflow) (3.0.0)\n",
      "Requirement already satisfied: mdurl~=0.1 in /Users/edithriostorres/anaconda3/lib/python3.10/site-packages (from markdown-it-py>=2.2.0->rich->keras>=3.5.0->tensorflow) (0.1.2)\n",
      "Note: you may need to restart the kernel to use updated packages.\n"
     ]
    }
   ],
   "source": [
    "%pip install roboflow tensorflow"
   ]
  },
  {
   "cell_type": "markdown",
   "id": "3d7dc2ef",
   "metadata": {},
   "source": [
    "### Paso 2: Descargar el dataset de Roboflow"
   ]
  },
  {
   "cell_type": "code",
   "execution_count": 5,
   "id": "bf4641cd",
   "metadata": {},
   "outputs": [
    {
     "name": "stdout",
     "output_type": "stream",
     "text": [
      "loading Roboflow workspace...\n",
      "loading Roboflow project...\n"
     ]
    }
   ],
   "source": [
    "\n",
    "from roboflow import Roboflow\n",
    "rf = Roboflow(api_key=\"nK6spHh5hG9qjWGCbZ43\")\n",
    "project = rf.workspace(\"miguellopez\").project(\"image-classification-jtsve\")\n",
    "version = project.version(1)\n",
    "dataset = version.download(\"folder\")\n",
    "                \n",
    "                "
   ]
  },
  {
   "cell_type": "markdown",
   "id": "612303fc",
   "metadata": {},
   "source": [
    "### Paso 3: Cargar dataset con ImageDataGenerator"
   ]
  },
  {
   "cell_type": "code",
   "execution_count": 6,
   "id": "0b86ddd4",
   "metadata": {},
   "outputs": [
    {
     "name": "stdout",
     "output_type": "stream",
     "text": [
      "Found 1646 images belonging to 7 classes.\n",
      "Found 409 images belonging to 7 classes.\n"
     ]
    }
   ],
   "source": [
    "\n",
    "import tensorflow as tf\n",
    "from tensorflow.keras.models import Sequential\n",
    "from tensorflow.keras.layers import Conv2D, MaxPooling2D, Flatten, Dense, Dropout\n",
    "from tensorflow.keras.preprocessing.image import ImageDataGenerator\n",
    "\n",
    "img_size = (224,224)\n",
    "\n",
    "datagen = ImageDataGenerator(\n",
    "    rescale=1./255,\n",
    "    validation_split=0.2  # 80% para entrenamiento, 20% para validación\n",
    ")\n",
    "\n",
    "train_generator = datagen.flow_from_directory(\n",
    "    dataset.location + \"/train\",\n",
    "    target_size=img_size,\n",
    "    batch_size=32,\n",
    "    class_mode='categorical',\n",
    "    subset='training'  # Conjunto de entrenamiento\n",
    ")\n",
    "\n",
    "validation_generator = datagen.flow_from_directory(\n",
    "    dataset.location + \"/train\",\n",
    "    target_size=img_size,\n",
    "    batch_size=32,\n",
    "    class_mode='categorical',\n",
    "    subset='validation'  # Conjunto de validación\n",
    ")\n"
   ]
  },
  {
   "cell_type": "markdown",
   "id": "559f1cb2",
   "metadata": {},
   "source": [
    "### Paso 4: Realizar el preprocesamiento del dataset\n",
    "\n",
    " En este caso se estan transformando las imagenes y posteriormente guardando en la carpeta \"preprocesado\" para poder verificar los cambios realizados durante el proceso. Sin embargo, usar ImageDataGenerator es más útil porque aplica las transformaciones en tiempo real durante el entrenamiento de un modelo, esto debido a que:\n",
    "\n",
    "  - Ahorra espacio\n",
    "  - Es más rápido\n",
    "  - Mejora la generalización del modelo\n",
    "  - Permite ajustar fácilmente los aumentos."
   ]
  },
  {
   "cell_type": "code",
   "execution_count": 10,
   "id": "5cc26635",
   "metadata": {},
   "outputs": [],
   "source": [
    "import os\n",
    "import cv2\n",
    "import numpy as np\n",
    "import random\n",
    "\n",
    "# Rutas\n",
    "# tomamos como directorio de entrada el directorio de entrenamiento del dataset\n",
    "input_dir = dataset.location + \"/train\"\n",
    "output_dir = \"preprocesado\"\n",
    "\n",
    "# Rango de transformaciones para cada paraámetro \n",
    "rotation_range = [-15, 15]      # grados (mín, máx)\n",
    "scale_range = [0.8, 1.2]        # factores de escala (mín, máx)\n",
    "brightness_range = [0.3, 1.8]   # factor de brillo (mín, máx)\n",
    "\n",
    "num_augmentations = 1           # maximo de transformaciones por imagen\n",
    "\n",
    "# Crear carpeta de salida\n",
    "if not os.path.exists(output_dir):\n",
    "    os.makedirs(output_dir)\n",
    "\n",
    "# Procesar cada emoción\n",
    "for emotion in os.listdir(input_dir):\n",
    "    emotion_path = os.path.join(input_dir, emotion)\n",
    "    save_path = os.path.join(output_dir, emotion)\n",
    "    os.makedirs(save_path, exist_ok=True)\n",
    "\n",
    "    for filename in os.listdir(emotion_path):\n",
    "        img_path = os.path.join(emotion_path, filename)\n",
    "        img = cv2.imread(img_path)\n",
    "\n",
    "        if img is None:\n",
    "            continue\n",
    "\n",
    "        # Guardar imagen original\n",
    "        # cv2.imwrite(os.path.join(save_path, f\"original_{filename}\"), img)\n",
    "\n",
    "        # Generar N transformaciones aleatorias por imagen\n",
    "        for i in range(num_augmentations):\n",
    "\n",
    "            # 1. Brillo\n",
    "            b = random.uniform(brightness_range[0], brightness_range[1])\n",
    "            bright_img = cv2.convertScaleAbs(img, alpha=b, beta=0)\n",
    "            \n",
    "            # 2. Rotación\n",
    "            angle = random.uniform(rotation_range[0], rotation_range[1])\n",
    "            h, w = img.shape[:2]\n",
    "            center = (w // 2, h // 2)\n",
    "            matrix = cv2.getRotationMatrix2D(center, angle, 1.0)\n",
    "            rotated_img = cv2.warpAffine(bright_img, matrix, (w, h))\n",
    "            \n",
    "            # 3. Escalado\n",
    "            s = random.uniform(scale_range[0], scale_range[1])\n",
    "            new_size = (int(w * s), int(h * s))\n",
    "            resized_img = cv2.resize(rotated_img, new_size)\n",
    "            \n",
    "            # Guardar la imagen transformada\n",
    "            cv2.imwrite(\n",
    "                os.path.join(save_path, f\"aug_{i}_b{b:.1f}_r{angle:.1f}_s{s:.1f}_{filename}\"),\n",
    "                resized_img\n",
    "            )"
   ]
  }
 ],
 "metadata": {
  "kernelspec": {
   "display_name": "Python 3",
   "language": "python",
   "name": "python3"
  },
  "language_info": {
   "codemirror_mode": {
    "name": "ipython",
    "version": 3
   },
   "file_extension": ".py",
   "mimetype": "text/x-python",
   "name": "python",
   "nbconvert_exporter": "python",
   "pygments_lexer": "ipython3",
   "version": "3.10.9"
  }
 },
 "nbformat": 4,
 "nbformat_minor": 5
}
